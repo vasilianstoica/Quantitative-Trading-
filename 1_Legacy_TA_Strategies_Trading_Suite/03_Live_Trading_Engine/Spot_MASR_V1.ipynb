{
 "cells": [
  {
   "cell_type": "code",
   "execution_count": 1,
   "id": "caca1654",
   "metadata": {
    "scrolled": false
   },
   "outputs": [],
   "source": [
    "from Live_trading_Spot_MASR_Script_v1 import *"
   ]
  },
  {
   "cell_type": "code",
   "execution_count": 2,
   "id": "7ce26107",
   "metadata": {},
   "outputs": [],
   "source": [
    "SMA_Trend = 10\n",
    "EMA_Trend = 280\n",
    "PCT_BUY = 0.06\n",
    "PCT_SELL = 0.17\n",
    "stop_loss =  0.20\n",
    "take_profit = 1\n",
    "leverage = 3\n",
    "timeframe_a = \"12h\"\n",
    "timeframe_a_resample = \"12h\"\n",
    "symbol_Binance = \"BTCBUSD\"\n",
    "api_key_Mihai_Binance = \"6LdXOKH4s3pL9WrPPT2JKpjjYPvvy1n3z412lbFn1CLUNakDJSQR3NNMR0Dd0CzG\"\n",
    "api_secret_Mihai_Binance = \"kojs3oYvhB32tbhigRlg1feec2ulTr3VJOzNZMZQ7nJzK65jtVx6zSLvnHg0Sr4z\"\n",
    "testnet = True\n",
    "holder_Mihai_Binance = \"Mihai_Binance\"\n",
    "position = 0\n",
    "stop_loss_level = 0\n",
    "take_profit_level = 0"
   ]
  },
  {
   "cell_type": "code",
   "execution_count": 3,
   "id": "1e36c3f8",
   "metadata": {},
   "outputs": [],
   "source": [
    "trader = Trader(timeframe_a, timeframe_a_resample, symbol_Binance, SMA_Trend, EMA_Trend, PCT_BUY, PCT_SELL, stop_loss, take_profit, leverage, api_key_Mihai_Binance, api_secret_Mihai_Binance,  testnet, holder_Mihai_Binance, position, stop_loss_level, take_profit_level)"
   ]
  },
  {
   "cell_type": "code",
   "execution_count": 4,
   "id": "0bcd0683",
   "metadata": {
    "scrolled": true
   },
   "outputs": [
    {
     "data": {
      "text/plain": [
       "{'status': 0, 'msg': 'normal'}"
      ]
     },
     "execution_count": 4,
     "metadata": {},
     "output_type": "execute_result"
    }
   ],
   "source": [
    "trader.system_status_Binance()"
   ]
  },
  {
   "cell_type": "code",
   "execution_count": 5,
   "id": "8cbc4a83",
   "metadata": {},
   "outputs": [
    {
     "data": {
      "text/plain": [
       "21201.3012935"
      ]
     },
     "execution_count": 5,
     "metadata": {},
     "output_type": "execute_result"
    }
   ],
   "source": [
    "trader.get_avg_price(symbol_Binance)"
   ]
  },
  {
   "cell_type": "code",
   "execution_count": 6,
   "id": "91bec2e1",
   "metadata": {},
   "outputs": [
    {
     "name": "stdout",
     "output_type": "stream",
     "text": [
      "{'asset': 'BNB', 'free': '1000.00000000', 'locked': '0.00000000'}\n",
      "{'asset': 'BTC', 'free': '1.00000000', 'locked': '0.00000000'}\n",
      "{'asset': 'BUSD', 'free': '10000.00000000', 'locked': '0.00000000'}\n",
      "{'asset': 'ETH', 'free': '100.00000000', 'locked': '0.00000000'}\n",
      "{'asset': 'LTC', 'free': '500.00000000', 'locked': '0.00000000'}\n",
      "{'asset': 'TRX', 'free': '500000.00000000', 'locked': '0.00000000'}\n",
      "{'asset': 'USDT', 'free': '10000.00000000', 'locked': '0.00000000'}\n",
      "{'asset': 'XRP', 'free': '50000.00000000', 'locked': '0.00000000'}\n"
     ]
    }
   ],
   "source": [
    "trader.get_balances_Binance(\"Mihai\")"
   ]
  },
  {
   "cell_type": "code",
   "execution_count": 7,
   "id": "e491d0c9",
   "metadata": {},
   "outputs": [
    {
     "data": {
      "text/plain": [
       "'1.00000000'"
      ]
     },
     "execution_count": 7,
     "metadata": {},
     "output_type": "execute_result"
    }
   ],
   "source": [
    "trader.get_btc_balance_Binance(\"Mihai\")"
   ]
  },
  {
   "cell_type": "code",
   "execution_count": 8,
   "id": "d48349bd",
   "metadata": {},
   "outputs": [
    {
     "data": {
      "text/plain": [
       "'10000.00000000'"
      ]
     },
     "execution_count": 8,
     "metadata": {},
     "output_type": "execute_result"
    }
   ],
   "source": [
    "trader.get_busd_balance_Binance(\"Mihai\")"
   ]
  },
  {
   "cell_type": "code",
   "execution_count": null,
   "id": "7d8958d3",
   "metadata": {},
   "outputs": [],
   "source": []
  },
  {
   "cell_type": "code",
   "execution_count": null,
   "id": "be41c52e",
   "metadata": {
    "scrolled": true
   },
   "outputs": [
    {
     "name": "stdout",
     "output_type": "stream",
     "text": [
      "Bot started at 2023-01-17 18:14:04.549643\n",
      "Buying 0.46696000 of BTCBUSD at 21195.79000000 on 2023-01-17 18:14:07.371000 UTC time, TA.\n"
     ]
    }
   ],
   "source": [
    "trader.stream_data_new()"
   ]
  },
  {
   "cell_type": "code",
   "execution_count": null,
   "id": "1865a012",
   "metadata": {},
   "outputs": [],
   "source": []
  }
 ],
 "metadata": {
  "kernelspec": {
   "display_name": "Python 3 (ipykernel)",
   "language": "python",
   "name": "python3"
  },
  "language_info": {
   "codemirror_mode": {
    "name": "ipython",
    "version": 3
   },
   "file_extension": ".py",
   "mimetype": "text/x-python",
   "name": "python",
   "nbconvert_exporter": "python",
   "pygments_lexer": "ipython3",
   "version": "3.10.9"
  }
 },
 "nbformat": 4,
 "nbformat_minor": 5
}
